{
 "cells": [
  {
   "cell_type": "code",
   "execution_count": 1,
   "id": "57b0d79c",
   "metadata": {},
   "outputs": [
    {
     "name": "stderr",
     "output_type": "stream",
     "text": [
      "/Users/rohitkulkarni/anaconda3/lib/python3.11/site-packages/pandas/core/arrays/masked.py:60: UserWarning: Pandas requires version '1.3.6' or newer of 'bottleneck' (version '1.3.5' currently installed).\n",
      "  from pandas.core import (\n"
     ]
    }
   ],
   "source": [
    "#Imports\n",
    "\n",
    "import pandas as pd\n",
    "import numpy as np\n",
    "import joblib\n",
    "from sklearn.model_selection import train_test_split\n",
    "from sklearn.multioutput import MultiOutputClassifier\n",
    "from sklearn.ensemble import RandomForestClassifier\n",
    "from sklearn.preprocessing import MultiLabelBinarizer\n",
    "from sklearn.metrics import classification_report\n",
    "\n",
    "import matplotlib.pyplot as plt"
   ]
  },
  {
   "cell_type": "code",
   "execution_count": 2,
   "id": "faaa953e",
   "metadata": {},
   "outputs": [],
   "source": [
    "#Load Data\n",
    "\n",
    "admissions = pd.read_csv(\"admissions.csv\", parse_dates=[\"admittime\", \"dischtime\"])\n",
    "patients = pd.read_csv(\"patients.csv\")\n",
    "diagnoses = pd.read_csv(\"diagnoses_icd.csv\")\n",
    "d_icd_diag = pd.read_csv(\"d_icd_diagnoses.csv\")\n",
    "procedures = pd.read_csv(\"procedures_icd.csv\")\n",
    "transfers = pd.read_csv(\"transfers.csv\")"
   ]
  },
  {
   "cell_type": "code",
   "execution_count": 3,
   "id": "3b16c164",
   "metadata": {},
   "outputs": [],
   "source": [
    "# ICD Label Prep\n",
    "\n",
    "diagnoses = diagnoses.merge(d_icd_diag, on=['icd_code', 'icd_version'], how='left')\n",
    "diagnoses = diagnoses[diagnoses['icd_version'] == 10]\n",
    "diagnoses['icd_block'] = diagnoses['icd_code'].str[:3]\n",
    "\n",
    "top_blocks = diagnoses['icd_block'].value_counts().head(20).index.tolist()\n",
    "diagnoses_filtered = diagnoses[diagnoses['icd_block'].isin(top_blocks)]\n",
    "\n",
    "icd_multilabel = (\n",
    "    diagnoses_filtered\n",
    "    .groupby('hadm_id')['icd_block']\n",
    "    .apply(list)\n",
    "    .reset_index()\n",
    ")\n",
    "\n",
    "mlb = MultiLabelBinarizer()\n",
    "icd_multihot = pd.DataFrame(\n",
    "    mlb.fit_transform(icd_multilabel['icd_block']),\n",
    "    columns=mlb.classes_,\n",
    "    index=icd_multilabel['hadm_id']\n",
    ").reset_index()"
   ]
  },
  {
   "cell_type": "code",
   "execution_count": 4,
   "id": "61e1950f",
   "metadata": {},
   "outputs": [
    {
     "name": "stderr",
     "output_type": "stream",
     "text": [
      "/var/folders/zr/3d272zpd4vv3hvlhrp34nnyr0000gn/T/ipykernel_88343/3200271347.py:23: FutureWarning: A value is trying to be set on a copy of a DataFrame or Series through chained assignment using an inplace method.\n",
      "The behavior will change in pandas 3.0. This inplace method will never work because the intermediate object on which we are setting values always behaves as a copy.\n",
      "\n",
      "For example, when doing 'df[col].method(value, inplace=True)', try using 'df.method({col: value}, inplace=True)' or df[col] = df[col].method(value) instead, to perform the operation inplace on the original object.\n",
      "\n",
      "\n",
      "  admissions['n_diagnoses'].fillna(0, inplace=True)\n",
      "/var/folders/zr/3d272zpd4vv3hvlhrp34nnyr0000gn/T/ipykernel_88343/3200271347.py:24: FutureWarning: A value is trying to be set on a copy of a DataFrame or Series through chained assignment using an inplace method.\n",
      "The behavior will change in pandas 3.0. This inplace method will never work because the intermediate object on which we are setting values always behaves as a copy.\n",
      "\n",
      "For example, when doing 'df[col].method(value, inplace=True)', try using 'df.method({col: value}, inplace=True)' or df[col] = df[col].method(value) instead, to perform the operation inplace on the original object.\n",
      "\n",
      "\n",
      "  admissions['n_procedures'].fillna(0, inplace=True)\n"
     ]
    }
   ],
   "source": [
    "#Feature Engineering\n",
    "\n",
    "admissions = admissions.merge(patients[['subject_id', 'gender']], on='subject_id', how='left')\n",
    "if 'anchor_age' in patients.columns:\n",
    "    admissions = admissions.merge(patients[['subject_id', 'anchor_age']], on='subject_id', how='left')\n",
    "    admissions.rename(columns={\"anchor_age\": \"age\"}, inplace=True)\n",
    "\n",
    "admissions['los'] = (admissions['dischtime'] - admissions['admittime']).dt.days\n",
    "admissions = pd.get_dummies(admissions, columns=['admission_type', 'insurance', 'gender'], drop_first=True)\n",
    "\n",
    "n_diag = diagnoses.groupby('hadm_id')['icd_code'].count().reset_index(name='n_diagnoses')\n",
    "admissions = admissions.merge(n_diag, on='hadm_id', how='left')\n",
    "\n",
    "n_proc = procedures.groupby('hadm_id')['icd_code'].count().reset_index(name='n_procedures')\n",
    "admissions = admissions.merge(n_proc, on='hadm_id', how='left')\n",
    "\n",
    "icu = transfers[transfers['careunit'].str.contains(\"ICU\", na=False)]\n",
    "icu_flag = icu.groupby('hadm_id').size().reset_index(name='icu_flag')\n",
    "icu_flag['icu_flag'] = 1\n",
    "admissions = admissions.merge(icu_flag[['hadm_id', 'icu_flag']], on='hadm_id', how='left')\n",
    "admissions['icu_flag'] = admissions['icu_flag'].fillna(0)\n",
    "\n",
    "admissions['n_diagnoses'].fillna(0, inplace=True)\n",
    "admissions['n_procedures'].fillna(0, inplace=True)\n",
    "admissions = admissions.sort_values(by=[\"subject_id\", \"admittime\"])\n",
    "admissions['num_prev_admissions'] = admissions.groupby(\"subject_id\").cumcount()\n",
    "\n",
    "features = ['age', 'los', 'n_diagnoses', 'n_procedures', 'icu_flag', 'num_prev_admissions'] + \\\n",
    "    [col for col in admissions.columns if col.startswith((\"admission_type_\", \"insurance_\", \"gender_\"))]\n",
    "\n",
    "feature_df = admissions[[\"hadm_id\"] + features]"
   ]
  },
  {
   "cell_type": "code",
   "execution_count": 5,
   "id": "8acbda65",
   "metadata": {},
   "outputs": [],
   "source": [
    "diagnoses = diagnoses.merge(d_icd_diag, on=['icd_code', 'icd_version'], how='left')\n",
    "diagnoses = diagnoses[diagnoses['icd_version'] == 10]\n",
    "diagnoses['icd_block'] = diagnoses['icd_code'].str[:3]\n",
    "diagnoses['icd_chapter'] = diagnoses['icd_code'].str[0]  # 'E', 'I', etc.\n",
    "\n",
    "# ---- Chapter Labels ----\n",
    "chapter_labels = diagnoses.groupby('hadm_id')['icd_chapter'].apply(lambda x: list(set(x))).reset_index()\n",
    "mlb_chapter = MultiLabelBinarizer()\n",
    "y_chapters = pd.DataFrame(\n",
    "    mlb_chapter.fit_transform(chapter_labels['icd_chapter']),\n",
    "    columns=mlb_chapter.classes_,\n",
    "    index=chapter_labels['hadm_id']\n",
    ").reset_index()\n",
    "\n",
    "# ---- Block Labels (top 20 blocks) ----\n",
    "top_blocks = diagnoses['icd_block'].value_counts().head(20).index.tolist()\n",
    "block_filtered = diagnoses[diagnoses['icd_block'].isin(top_blocks)]\n",
    "block_labels = block_filtered.groupby('hadm_id')['icd_block'].apply(list).reset_index()\n",
    "mlb_block = MultiLabelBinarizer()\n",
    "y_blocks = pd.DataFrame(\n",
    "    mlb_block.fit_transform(block_labels['icd_block']),\n",
    "    columns=mlb_block.classes_,\n",
    "    index=block_labels['hadm_id']\n",
    ").reset_index()"
   ]
  },
  {
   "cell_type": "code",
   "execution_count": 6,
   "id": "7f8d0dfa",
   "metadata": {},
   "outputs": [],
   "source": [
    "df_chapters = feature_df.merge(y_chapters, on=\"hadm_id\", how=\"inner\")\n",
    "df_blocks = feature_df.merge(y_blocks, on=\"hadm_id\", how=\"inner\")\n",
    "\n",
    "X_chapters = df_chapters[features]\n",
    "y_chapters = df_chapters[mlb_chapter.classes_]\n",
    "\n",
    "X_blocks = df_blocks[features]\n",
    "y_blocks = df_blocks[mlb_block.classes_]"
   ]
  },
  {
   "cell_type": "code",
   "execution_count": 7,
   "id": "07afd96c",
   "metadata": {},
   "outputs": [
    {
     "data": {
      "text/html": [
       "<style>#sk-container-id-1 {color: black;}#sk-container-id-1 pre{padding: 0;}#sk-container-id-1 div.sk-toggleable {background-color: white;}#sk-container-id-1 label.sk-toggleable__label {cursor: pointer;display: block;width: 100%;margin-bottom: 0;padding: 0.3em;box-sizing: border-box;text-align: center;}#sk-container-id-1 label.sk-toggleable__label-arrow:before {content: \"▸\";float: left;margin-right: 0.25em;color: #696969;}#sk-container-id-1 label.sk-toggleable__label-arrow:hover:before {color: black;}#sk-container-id-1 div.sk-estimator:hover label.sk-toggleable__label-arrow:before {color: black;}#sk-container-id-1 div.sk-toggleable__content {max-height: 0;max-width: 0;overflow: hidden;text-align: left;background-color: #f0f8ff;}#sk-container-id-1 div.sk-toggleable__content pre {margin: 0.2em;color: black;border-radius: 0.25em;background-color: #f0f8ff;}#sk-container-id-1 input.sk-toggleable__control:checked~div.sk-toggleable__content {max-height: 200px;max-width: 100%;overflow: auto;}#sk-container-id-1 input.sk-toggleable__control:checked~label.sk-toggleable__label-arrow:before {content: \"▾\";}#sk-container-id-1 div.sk-estimator input.sk-toggleable__control:checked~label.sk-toggleable__label {background-color: #d4ebff;}#sk-container-id-1 div.sk-label input.sk-toggleable__control:checked~label.sk-toggleable__label {background-color: #d4ebff;}#sk-container-id-1 input.sk-hidden--visually {border: 0;clip: rect(1px 1px 1px 1px);clip: rect(1px, 1px, 1px, 1px);height: 1px;margin: -1px;overflow: hidden;padding: 0;position: absolute;width: 1px;}#sk-container-id-1 div.sk-estimator {font-family: monospace;background-color: #f0f8ff;border: 1px dotted black;border-radius: 0.25em;box-sizing: border-box;margin-bottom: 0.5em;}#sk-container-id-1 div.sk-estimator:hover {background-color: #d4ebff;}#sk-container-id-1 div.sk-parallel-item::after {content: \"\";width: 100%;border-bottom: 1px solid gray;flex-grow: 1;}#sk-container-id-1 div.sk-label:hover label.sk-toggleable__label {background-color: #d4ebff;}#sk-container-id-1 div.sk-serial::before {content: \"\";position: absolute;border-left: 1px solid gray;box-sizing: border-box;top: 0;bottom: 0;left: 50%;z-index: 0;}#sk-container-id-1 div.sk-serial {display: flex;flex-direction: column;align-items: center;background-color: white;padding-right: 0.2em;padding-left: 0.2em;position: relative;}#sk-container-id-1 div.sk-item {position: relative;z-index: 1;}#sk-container-id-1 div.sk-parallel {display: flex;align-items: stretch;justify-content: center;background-color: white;position: relative;}#sk-container-id-1 div.sk-item::before, #sk-container-id-1 div.sk-parallel-item::before {content: \"\";position: absolute;border-left: 1px solid gray;box-sizing: border-box;top: 0;bottom: 0;left: 50%;z-index: -1;}#sk-container-id-1 div.sk-parallel-item {display: flex;flex-direction: column;z-index: 1;position: relative;background-color: white;}#sk-container-id-1 div.sk-parallel-item:first-child::after {align-self: flex-end;width: 50%;}#sk-container-id-1 div.sk-parallel-item:last-child::after {align-self: flex-start;width: 50%;}#sk-container-id-1 div.sk-parallel-item:only-child::after {width: 0;}#sk-container-id-1 div.sk-dashed-wrapped {border: 1px dashed gray;margin: 0 0.4em 0.5em 0.4em;box-sizing: border-box;padding-bottom: 0.4em;background-color: white;}#sk-container-id-1 div.sk-label label {font-family: monospace;font-weight: bold;display: inline-block;line-height: 1.2em;}#sk-container-id-1 div.sk-label-container {text-align: center;}#sk-container-id-1 div.sk-container {/* jupyter's `normalize.less` sets `[hidden] { display: none; }` but bootstrap.min.css set `[hidden] { display: none !important; }` so we also need the `!important` here to be able to override the default hidden behavior on the sphinx rendered scikit-learn.org. See: https://github.com/scikit-learn/scikit-learn/issues/21755 */display: inline-block !important;position: relative;}#sk-container-id-1 div.sk-text-repr-fallback {display: none;}</style><div id=\"sk-container-id-1\" class=\"sk-top-container\"><div class=\"sk-text-repr-fallback\"><pre>MultiOutputClassifier(estimator=RandomForestClassifier(class_weight=&#x27;balanced&#x27;,\n",
       "                                                       max_depth=10,\n",
       "                                                       random_state=42))</pre><b>In a Jupyter environment, please rerun this cell to show the HTML representation or trust the notebook. <br />On GitHub, the HTML representation is unable to render, please try loading this page with nbviewer.org.</b></div><div class=\"sk-container\" hidden><div class=\"sk-item sk-dashed-wrapped\"><div class=\"sk-label-container\"><div class=\"sk-label sk-toggleable\"><input class=\"sk-toggleable__control sk-hidden--visually\" id=\"sk-estimator-id-1\" type=\"checkbox\" ><label for=\"sk-estimator-id-1\" class=\"sk-toggleable__label sk-toggleable__label-arrow\">MultiOutputClassifier</label><div class=\"sk-toggleable__content\"><pre>MultiOutputClassifier(estimator=RandomForestClassifier(class_weight=&#x27;balanced&#x27;,\n",
       "                                                       max_depth=10,\n",
       "                                                       random_state=42))</pre></div></div></div><div class=\"sk-parallel\"><div class=\"sk-parallel-item\"><div class=\"sk-item\"><div class=\"sk-label-container\"><div class=\"sk-label sk-toggleable\"><input class=\"sk-toggleable__control sk-hidden--visually\" id=\"sk-estimator-id-2\" type=\"checkbox\" ><label for=\"sk-estimator-id-2\" class=\"sk-toggleable__label sk-toggleable__label-arrow\">estimator: RandomForestClassifier</label><div class=\"sk-toggleable__content\"><pre>RandomForestClassifier(class_weight=&#x27;balanced&#x27;, max_depth=10, random_state=42)</pre></div></div></div><div class=\"sk-serial\"><div class=\"sk-item\"><div class=\"sk-estimator sk-toggleable\"><input class=\"sk-toggleable__control sk-hidden--visually\" id=\"sk-estimator-id-3\" type=\"checkbox\" ><label for=\"sk-estimator-id-3\" class=\"sk-toggleable__label sk-toggleable__label-arrow\">RandomForestClassifier</label><div class=\"sk-toggleable__content\"><pre>RandomForestClassifier(class_weight=&#x27;balanced&#x27;, max_depth=10, random_state=42)</pre></div></div></div></div></div></div></div></div></div></div>"
      ],
      "text/plain": [
       "MultiOutputClassifier(estimator=RandomForestClassifier(class_weight='balanced',\n",
       "                                                       max_depth=10,\n",
       "                                                       random_state=42))"
      ]
     },
     "execution_count": 7,
     "metadata": {},
     "output_type": "execute_result"
    }
   ],
   "source": [
    "Xc_train, Xc_test, yc_train, yc_test = train_test_split(X_chapters, y_chapters, test_size=0.2, random_state=42)\n",
    "clf_chapter = MultiOutputClassifier(RandomForestClassifier(n_estimators=100, max_depth=10, class_weight='balanced', random_state=42))\n",
    "clf_chapter.fit(Xc_train, yc_train)\n",
    "\n",
    "# Block Model\n",
    "Xb_train, Xb_test, yb_train, yb_test = train_test_split(X_blocks, y_blocks, test_size=0.2, random_state=42)\n",
    "clf_block = MultiOutputClassifier(RandomForestClassifier(n_estimators=100, max_depth=10, class_weight='balanced', random_state=42))\n",
    "clf_block.fit(Xb_train, yb_train)"
   ]
  },
  {
   "cell_type": "code",
   "execution_count": 8,
   "id": "78bb36ef",
   "metadata": {},
   "outputs": [
    {
     "name": "stdout",
     "output_type": "stream",
     "text": [
      "📊 Classification Report — ICD Chapters (Multi-label):\n",
      "              precision    recall  f1-score   support\n",
      "\n",
      "           A       0.19      0.72      0.30      2367\n",
      "           B       0.29      0.70      0.41      4711\n",
      "           C       0.25      0.77      0.38      4512\n",
      "           D       0.60      0.75      0.67     11397\n",
      "           E       0.86      0.81      0.83     20184\n",
      "           F       0.64      0.67      0.65     14459\n",
      "           G       0.52      0.72      0.61     11307\n",
      "           H       0.16      0.66      0.25      2616\n",
      "           I       0.88      0.84      0.86     20553\n",
      "           J       0.48      0.68      0.57      9323\n",
      "           K       0.61      0.72      0.66     13896\n",
      "           L       0.21      0.59      0.32      3501\n",
      "           M       0.45      0.72      0.56      9530\n",
      "           N       0.63      0.74      0.68     11325\n",
      "           O       0.52      0.96      0.67      1389\n",
      "           P       1.00      0.67      0.80         6\n",
      "           Q       0.05      0.44      0.09       878\n",
      "           R       0.69      0.71      0.70     16133\n",
      "           S       0.18      0.66      0.28      3006\n",
      "           T       0.38      0.72      0.50      6089\n",
      "           V       0.04      0.59      0.08       395\n",
      "           W       0.14      0.70      0.24      2240\n",
      "           X       0.05      0.40      0.08       663\n",
      "           Y       0.46      0.63      0.53      8644\n",
      "           Z       0.93      0.77      0.85     24420\n",
      "\n",
      "   micro avg       0.50      0.74      0.59    203544\n",
      "   macro avg       0.45      0.69      0.50    203544\n",
      "weighted avg       0.63      0.74      0.66    203544\n",
      " samples avg       0.48      0.64      0.51    203544\n",
      "\n"
     ]
    },
    {
     "name": "stderr",
     "output_type": "stream",
     "text": [
      "/Users/rohitkulkarni/anaconda3/lib/python3.11/site-packages/sklearn/metrics/_classification.py:1469: UndefinedMetricWarning: Precision and F-score are ill-defined and being set to 0.0 in samples with no predicted labels. Use `zero_division` parameter to control this behavior.\n",
      "  _warn_prf(average, modifier, msg_start, len(result))\n"
     ]
    },
    {
     "name": "stdout",
     "output_type": "stream",
     "text": [
      "📊 Classification Report — ICD Blocks (Multi-label):\n",
      "              precision    recall  f1-score   support\n",
      "\n",
      "         E11       0.39      0.75      0.51      7083\n",
      "         E78       0.56      0.80      0.66     11112\n",
      "         E87       0.39      0.73      0.51      5238\n",
      "         F32       0.33      0.61      0.43      5816\n",
      "         F41       0.30      0.63      0.40      5004\n",
      "         G47       0.24      0.69      0.36      4207\n",
      "         I10       0.50      0.74      0.59     10400\n",
      "         I25       0.41      0.76      0.53      6122\n",
      "         I48       0.36      0.77      0.49      5015\n",
      "         I50       0.39      0.79      0.52      5012\n",
      "         K21       0.35      0.67      0.46      6822\n",
      "         N17       0.36      0.78      0.49      4591\n",
      "         N18       0.37      0.77      0.50      4963\n",
      "         Y92       0.46      0.58      0.52      8116\n",
      "         Z68       0.32      0.75      0.45      4959\n",
      "         Z79       0.52      0.72      0.60      9251\n",
      "         Z85       0.26      0.72      0.38      4429\n",
      "         Z86       0.26      0.68      0.38      4657\n",
      "         Z87       0.45      0.68      0.54      8626\n",
      "         Z95       0.30      0.76      0.43      4076\n",
      "\n",
      "   micro avg       0.38      0.72      0.50    125499\n",
      "   macro avg       0.38      0.72      0.49    125499\n",
      "weighted avg       0.40      0.72      0.51    125499\n",
      " samples avg       0.37      0.61      0.42    125499\n",
      "\n"
     ]
    },
    {
     "name": "stderr",
     "output_type": "stream",
     "text": [
      "/Users/rohitkulkarni/anaconda3/lib/python3.11/site-packages/sklearn/metrics/_classification.py:1469: UndefinedMetricWarning: Precision and F-score are ill-defined and being set to 0.0 in samples with no predicted labels. Use `zero_division` parameter to control this behavior.\n",
      "  _warn_prf(average, modifier, msg_start, len(result))\n"
     ]
    }
   ],
   "source": [
    "# Evaluate Chapter Model\n",
    "\n",
    "y_pred_chap = clf_chapter.predict(Xc_test)\n",
    "\n",
    "print(\"Classification Report — ICD Chapters (Multi-label):\")\n",
    "print(classification_report(yc_test, y_pred_chap, target_names=mlb_chapter.classes_))\n",
    "\n",
    "# Evaluate Block Model\n",
    "y_pred_block = clf_block.predict(Xb_test)\n",
    "\n",
    "print(\"Classification Report — ICD Blocks (Multi-label):\")\n",
    "print(classification_report(yb_test, y_pred_block, target_names=mlb_block.classes_))"
   ]
  },
  {
   "cell_type": "code",
   "execution_count": 9,
   "id": "bb2b2afa",
   "metadata": {},
   "outputs": [
    {
     "data": {
      "image/png": "[encoded data removed]",
      "text/plain": [
       "<Figure size 1000x400 with 2 Axes>"
      ]
     },
     "metadata": {},
     "output_type": "display_data"
    }
   ],
   "source": [
    "num_chapter_preds = pd.DataFrame(y_pred_chap, columns=mlb_chapter.classes_).sum(axis=1)\n",
    "num_block_preds = pd.DataFrame(y_pred_block, columns=mlb_block.classes_).sum(axis=1)\n",
    "\n",
    "plt.figure(figsize=(10, 4))\n",
    "plt.subplot(1, 2, 1)\n",
    "num_chapter_preds.hist()\n",
    "plt.title(\"Number of ICD Chapters Predicted per Patient\")\n",
    "\n",
    "plt.subplot(1, 2, 2)\n",
    "num_block_preds.hist()\n",
    "plt.title(\"Number of ICD Blocks Predicted per Patient\")\n",
    "\n",
    "plt.tight_layout()\n",
    "plt.show()"
   ]
  },
  {
   "cell_type": "code",
   "execution_count": 11,
   "id": "01e88062",
   "metadata": {},
   "outputs": [
    {
     "data": {
      "text/plain": [
       "['models/icd_model_features.pkl']"
      ]
     },
     "execution_count": 11,
     "metadata": {},
     "output_type": "execute_result"
    }
   ],
   "source": [
    "import joblib\n",
    "import os\n",
    "\n",
    "# Create model folder\n",
    "os.makedirs(\"models\", exist_ok=True)\n",
    "\n",
    "# Save Chapter model\n",
    "joblib.dump(clf_chapter, \"models/icd_chapter_model.pkl\")\n",
    "\n",
    "# Save Block model\n",
    "joblib.dump(clf_block, \"models/icd_block_model.pkl\")\n",
    "\n",
    "# Save label names (column order matters for multi-output)\n",
    "joblib.dump(y_chapters.columns.tolist(), \"models/icd_chapter_labels.pkl\")\n",
    "joblib.dump(y_blocks.columns.tolist(), \"models/icd_block_labels.pkl\")\n",
    "\n",
    "# Save feature list used by both models\n",
    "joblib.dump(X_chapters.columns.tolist(), \"models/icd_model_features.pkl\")"
   ]
  }
 ],
 "metadata": {
  "kernelspec": {
   "display_name": "Python 3 (ipykernel)",
   "language": "python",
   "name": "python3"
  },
  "language_info": {
   "codemirror_mode": {
    "name": "ipython",
    "version": 3
   },
   "file_extension": ".py",
   "mimetype": "text/x-python",
   "name": "python",
   "nbconvert_exporter": "python",
   "pygments_lexer": "ipython3",
   "version": "3.11.4"
  }
 },
 "nbformat": 4,
 "nbformat_minor": 5
}
